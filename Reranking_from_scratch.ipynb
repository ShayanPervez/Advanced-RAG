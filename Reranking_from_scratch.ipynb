{
  "nbformat": 4,
  "nbformat_minor": 0,
  "metadata": {
    "colab": {
      "provenance": [],
      "authorship_tag": "ABX9TyP4O/Qkp8uI+IEPn0XQ865P",
      "include_colab_link": true
    },
    "kernelspec": {
      "name": "python3",
      "display_name": "Python 3"
    },
    "language_info": {
      "name": "python"
    }
  },
  "cells": [
    {
      "cell_type": "markdown",
      "metadata": {
        "id": "view-in-github",
        "colab_type": "text"
      },
      "source": [
        "<a href=\"https://colab.research.google.com/github/ShayanPervez/Advanced-RAG/blob/main/Reranking_from_scratch.ipynb\" target=\"_parent\"><img src=\"https://colab.research.google.com/assets/colab-badge.svg\" alt=\"Open In Colab\"/></a>"
      ]
    },
    {
      "cell_type": "code",
      "execution_count": 80,
      "metadata": {
        "id": "f08Sp-KVQCjs"
      },
      "outputs": [],
      "source": [
        "documents = [\n",
        "    \"This is a list which containing sample documents.\",\n",
        "    \"Keywords are important for keyword-based search.\",\n",
        "    \"Document analysis involves extracting keywords.\",\n",
        "    \"Keyword-based search relies on sparse embeddings.\",\n",
        "    \"Understanding document structure aids in keyword extraction.\",\n",
        "    \"Efficient keyword extraction enhances search accuracy.\",\n",
        "    \"Semantic similarity improves document retrieval performance.\",\n",
        "    \"Machine learning algorithms can optimize keyword extraction methods.\"\n",
        "]\n"
      ]
    },
    {
      "cell_type": "code",
      "source": [
        "!pip install -U sentence-transformers"
      ],
      "metadata": {
        "colab": {
          "base_uri": "https://localhost:8080/"
        },
        "id": "-DG0-9fUW-Hw",
        "outputId": "3bd363bb-4f79-4ca6-dc3d-db98462a7370"
      },
      "execution_count": 81,
      "outputs": [
        {
          "output_type": "stream",
          "name": "stdout",
          "text": [
            "Requirement already satisfied: sentence-transformers in /usr/local/lib/python3.11/dist-packages (4.1.0)\n",
            "Requirement already satisfied: transformers<5.0.0,>=4.41.0 in /usr/local/lib/python3.11/dist-packages (from sentence-transformers) (4.52.4)\n",
            "Requirement already satisfied: tqdm in /usr/local/lib/python3.11/dist-packages (from sentence-transformers) (4.67.1)\n",
            "Requirement already satisfied: torch>=1.11.0 in /usr/local/lib/python3.11/dist-packages (from sentence-transformers) (2.6.0+cu124)\n",
            "Requirement already satisfied: scikit-learn in /usr/local/lib/python3.11/dist-packages (from sentence-transformers) (1.6.1)\n",
            "Requirement already satisfied: scipy in /usr/local/lib/python3.11/dist-packages (from sentence-transformers) (1.15.3)\n",
            "Requirement already satisfied: huggingface-hub>=0.20.0 in /usr/local/lib/python3.11/dist-packages (from sentence-transformers) (0.33.0)\n",
            "Requirement already satisfied: Pillow in /usr/local/lib/python3.11/dist-packages (from sentence-transformers) (11.2.1)\n",
            "Requirement already satisfied: typing_extensions>=4.5.0 in /usr/local/lib/python3.11/dist-packages (from sentence-transformers) (4.14.0)\n",
            "Requirement already satisfied: filelock in /usr/local/lib/python3.11/dist-packages (from huggingface-hub>=0.20.0->sentence-transformers) (3.18.0)\n",
            "Requirement already satisfied: fsspec>=2023.5.0 in /usr/local/lib/python3.11/dist-packages (from huggingface-hub>=0.20.0->sentence-transformers) (2025.3.2)\n",
            "Requirement already satisfied: packaging>=20.9 in /usr/local/lib/python3.11/dist-packages (from huggingface-hub>=0.20.0->sentence-transformers) (24.2)\n",
            "Requirement already satisfied: pyyaml>=5.1 in /usr/local/lib/python3.11/dist-packages (from huggingface-hub>=0.20.0->sentence-transformers) (6.0.2)\n",
            "Requirement already satisfied: requests in /usr/local/lib/python3.11/dist-packages (from huggingface-hub>=0.20.0->sentence-transformers) (2.32.3)\n",
            "Requirement already satisfied: hf-xet<2.0.0,>=1.1.2 in /usr/local/lib/python3.11/dist-packages (from huggingface-hub>=0.20.0->sentence-transformers) (1.1.3)\n",
            "Requirement already satisfied: networkx in /usr/local/lib/python3.11/dist-packages (from torch>=1.11.0->sentence-transformers) (3.5)\n",
            "Requirement already satisfied: jinja2 in /usr/local/lib/python3.11/dist-packages (from torch>=1.11.0->sentence-transformers) (3.1.6)\n",
            "Requirement already satisfied: nvidia-cuda-nvrtc-cu12==12.4.127 in /usr/local/lib/python3.11/dist-packages (from torch>=1.11.0->sentence-transformers) (12.4.127)\n",
            "Requirement already satisfied: nvidia-cuda-runtime-cu12==12.4.127 in /usr/local/lib/python3.11/dist-packages (from torch>=1.11.0->sentence-transformers) (12.4.127)\n",
            "Requirement already satisfied: nvidia-cuda-cupti-cu12==12.4.127 in /usr/local/lib/python3.11/dist-packages (from torch>=1.11.0->sentence-transformers) (12.4.127)\n",
            "Requirement already satisfied: nvidia-cudnn-cu12==9.1.0.70 in /usr/local/lib/python3.11/dist-packages (from torch>=1.11.0->sentence-transformers) (9.1.0.70)\n",
            "Requirement already satisfied: nvidia-cublas-cu12==12.4.5.8 in /usr/local/lib/python3.11/dist-packages (from torch>=1.11.0->sentence-transformers) (12.4.5.8)\n",
            "Requirement already satisfied: nvidia-cufft-cu12==11.2.1.3 in /usr/local/lib/python3.11/dist-packages (from torch>=1.11.0->sentence-transformers) (11.2.1.3)\n",
            "Requirement already satisfied: nvidia-curand-cu12==10.3.5.147 in /usr/local/lib/python3.11/dist-packages (from torch>=1.11.0->sentence-transformers) (10.3.5.147)\n",
            "Requirement already satisfied: nvidia-cusolver-cu12==11.6.1.9 in /usr/local/lib/python3.11/dist-packages (from torch>=1.11.0->sentence-transformers) (11.6.1.9)\n",
            "Requirement already satisfied: nvidia-cusparse-cu12==12.3.1.170 in /usr/local/lib/python3.11/dist-packages (from torch>=1.11.0->sentence-transformers) (12.3.1.170)\n",
            "Requirement already satisfied: nvidia-cusparselt-cu12==0.6.2 in /usr/local/lib/python3.11/dist-packages (from torch>=1.11.0->sentence-transformers) (0.6.2)\n",
            "Requirement already satisfied: nvidia-nccl-cu12==2.21.5 in /usr/local/lib/python3.11/dist-packages (from torch>=1.11.0->sentence-transformers) (2.21.5)\n",
            "Requirement already satisfied: nvidia-nvtx-cu12==12.4.127 in /usr/local/lib/python3.11/dist-packages (from torch>=1.11.0->sentence-transformers) (12.4.127)\n",
            "Requirement already satisfied: nvidia-nvjitlink-cu12==12.4.127 in /usr/local/lib/python3.11/dist-packages (from torch>=1.11.0->sentence-transformers) (12.4.127)\n",
            "Requirement already satisfied: triton==3.2.0 in /usr/local/lib/python3.11/dist-packages (from torch>=1.11.0->sentence-transformers) (3.2.0)\n",
            "Requirement already satisfied: sympy==1.13.1 in /usr/local/lib/python3.11/dist-packages (from torch>=1.11.0->sentence-transformers) (1.13.1)\n",
            "Requirement already satisfied: mpmath<1.4,>=1.1.0 in /usr/local/lib/python3.11/dist-packages (from sympy==1.13.1->torch>=1.11.0->sentence-transformers) (1.3.0)\n",
            "Requirement already satisfied: numpy>=1.17 in /usr/local/lib/python3.11/dist-packages (from transformers<5.0.0,>=4.41.0->sentence-transformers) (2.0.2)\n",
            "Requirement already satisfied: regex!=2019.12.17 in /usr/local/lib/python3.11/dist-packages (from transformers<5.0.0,>=4.41.0->sentence-transformers) (2024.11.6)\n",
            "Requirement already satisfied: tokenizers<0.22,>=0.21 in /usr/local/lib/python3.11/dist-packages (from transformers<5.0.0,>=4.41.0->sentence-transformers) (0.21.1)\n",
            "Requirement already satisfied: safetensors>=0.4.3 in /usr/local/lib/python3.11/dist-packages (from transformers<5.0.0,>=4.41.0->sentence-transformers) (0.5.3)\n",
            "Requirement already satisfied: joblib>=1.2.0 in /usr/local/lib/python3.11/dist-packages (from scikit-learn->sentence-transformers) (1.5.1)\n",
            "Requirement already satisfied: threadpoolctl>=3.1.0 in /usr/local/lib/python3.11/dist-packages (from scikit-learn->sentence-transformers) (3.6.0)\n",
            "Requirement already satisfied: MarkupSafe>=2.0 in /usr/local/lib/python3.11/dist-packages (from jinja2->torch>=1.11.0->sentence-transformers) (3.0.2)\n",
            "Requirement already satisfied: charset-normalizer<4,>=2 in /usr/local/lib/python3.11/dist-packages (from requests->huggingface-hub>=0.20.0->sentence-transformers) (3.4.2)\n",
            "Requirement already satisfied: idna<4,>=2.5 in /usr/local/lib/python3.11/dist-packages (from requests->huggingface-hub>=0.20.0->sentence-transformers) (3.10)\n",
            "Requirement already satisfied: urllib3<3,>=1.21.1 in /usr/local/lib/python3.11/dist-packages (from requests->huggingface-hub>=0.20.0->sentence-transformers) (2.4.0)\n",
            "Requirement already satisfied: certifi>=2017.4.17 in /usr/local/lib/python3.11/dist-packages (from requests->huggingface-hub>=0.20.0->sentence-transformers) (2025.6.15)\n"
          ]
        }
      ]
    },
    {
      "cell_type": "code",
      "source": [
        "from sentence_transformers import SentenceTransformer"
      ],
      "metadata": {
        "id": "VApH2X7uXEnN"
      },
      "execution_count": 82,
      "outputs": []
    },
    {
      "cell_type": "code",
      "source": [
        "model_name = \"sentence-transformers/paraphrase-xlm-r-multilingual-v1\""
      ],
      "metadata": {
        "id": "ey8ucpTGXyW4"
      },
      "execution_count": 83,
      "outputs": []
    },
    {
      "cell_type": "code",
      "source": [
        "model = SentenceTransformer(model_name)"
      ],
      "metadata": {
        "id": "0Cn6AwF7YD9K"
      },
      "execution_count": 84,
      "outputs": []
    },
    {
      "cell_type": "code",
      "source": [
        "documents"
      ],
      "metadata": {
        "colab": {
          "base_uri": "https://localhost:8080/"
        },
        "id": "Qb5bE8I9YHp9",
        "outputId": "30d7bdb6-5645-403e-d0ad-daa31169d7d0"
      },
      "execution_count": 85,
      "outputs": [
        {
          "output_type": "execute_result",
          "data": {
            "text/plain": [
              "['This is a list which containing sample documents.',\n",
              " 'Keywords are important for keyword-based search.',\n",
              " 'Document analysis involves extracting keywords.',\n",
              " 'Keyword-based search relies on sparse embeddings.',\n",
              " 'Understanding document structure aids in keyword extraction.',\n",
              " 'Efficient keyword extraction enhances search accuracy.',\n",
              " 'Semantic similarity improves document retrieval performance.',\n",
              " 'Machine learning algorithms can optimize keyword extraction methods.']"
            ]
          },
          "metadata": {},
          "execution_count": 85
        }
      ]
    },
    {
      "cell_type": "code",
      "source": [
        "len(documents)"
      ],
      "metadata": {
        "colab": {
          "base_uri": "https://localhost:8080/"
        },
        "id": "qqfwXC7CYNZr",
        "outputId": "7a3eacca-2c0e-4cf5-9e56-e45681b75cbd"
      },
      "execution_count": 86,
      "outputs": [
        {
          "output_type": "execute_result",
          "data": {
            "text/plain": [
              "8"
            ]
          },
          "metadata": {},
          "execution_count": 86
        }
      ]
    },
    {
      "cell_type": "code",
      "source": [
        "document_embedding = model.encode(documents)"
      ],
      "metadata": {
        "id": "O_-Fq9GYYOx5"
      },
      "execution_count": 87,
      "outputs": []
    },
    {
      "cell_type": "code",
      "source": [
        "for i,embedding in enumerate(document_embedding):\n",
        "  print(f\"Document {i+1} embedding shape: {embedding.shape}\")"
      ],
      "metadata": {
        "colab": {
          "base_uri": "https://localhost:8080/"
        },
        "id": "5fxYwJ20YUvr",
        "outputId": "7b110f11-6c10-4048-a93e-5f39848442ad"
      },
      "execution_count": 88,
      "outputs": [
        {
          "output_type": "stream",
          "name": "stdout",
          "text": [
            "Document 1 embedding shape: (768,)\n",
            "Document 2 embedding shape: (768,)\n",
            "Document 3 embedding shape: (768,)\n",
            "Document 4 embedding shape: (768,)\n",
            "Document 5 embedding shape: (768,)\n",
            "Document 6 embedding shape: (768,)\n",
            "Document 7 embedding shape: (768,)\n",
            "Document 8 embedding shape: (768,)\n"
          ]
        }
      ]
    },
    {
      "cell_type": "code",
      "source": [
        "query = \"Natural Language Processing techniques enhances keyword extraction and efficiency.\""
      ],
      "metadata": {
        "id": "B4UHH8OPYhy4"
      },
      "execution_count": 89,
      "outputs": []
    },
    {
      "cell_type": "code",
      "source": [
        "query_embeddings = model.encode(query)"
      ],
      "metadata": {
        "id": "c_Yo67omZEkG"
      },
      "execution_count": 90,
      "outputs": []
    },
    {
      "cell_type": "code",
      "source": [
        "print(\"Query Embedding:\", query_embeddings)"
      ],
      "metadata": {
        "colab": {
          "base_uri": "https://localhost:8080/"
        },
        "id": "CauT-NiHZIXF",
        "outputId": "000b9647-c5f2-4116-f62b-87c022aaa03d"
      },
      "execution_count": 91,
      "outputs": [
        {
          "output_type": "stream",
          "name": "stdout",
          "text": [
            "Query Embedding: [ 3.23020160e-01  3.12376142e-01  4.37102430e-02  3.77759263e-02\n",
            "  1.54213488e-01 -1.35263517e-01  8.95880386e-02  1.61216408e-01\n",
            "  3.48666191e-01  5.87312393e-02 -6.75413758e-02 -1.28856614e-01\n",
            "  1.44728586e-01  9.94062603e-01 -1.68053105e-01 -9.35827136e-01\n",
            " -2.84742028e-01 -2.01821804e-01  1.86429441e-01 -1.95479020e-02\n",
            " -4.59007248e-02 -1.05012804e-01 -9.04946849e-02 -2.62256682e-01\n",
            "  2.69456118e-01  3.36192995e-02  1.91353828e-01  2.86583841e-01\n",
            " -4.35097665e-01  1.32349402e-01 -2.19004855e-01  1.61913671e-02\n",
            "  6.80357665e-02  1.21774286e-01 -7.54485577e-02 -6.96404055e-02\n",
            "  1.13969639e-01 -2.22408593e-01 -4.07918155e-01  7.65999139e-05\n",
            "  2.44360827e-02  4.76954132e-01  9.51557308e-02  4.23957705e-01\n",
            " -1.77598089e-01 -2.36993372e-01 -6.74693286e-01 -4.26610172e-01\n",
            "  2.82047063e-01  1.35397509e-01 -1.31024078e-01  7.56369606e-02\n",
            "  1.34787753e-01  8.65256116e-02  1.92143023e-02  2.89181739e-01\n",
            "  2.54056212e-02  3.12729627e-01  2.35053644e-01 -1.98653266e-01\n",
            " -2.13998207e-03 -4.41381425e-01  2.59862747e-02 -7.55326748e-02\n",
            "  1.29931450e-01  1.99592993e-01 -6.59738947e-03 -1.84175953e-01\n",
            " -5.12024686e-02  4.44372557e-02 -1.71105444e-01  4.06405926e-02\n",
            "  1.49108410e-01  2.40711227e-01  1.17322959e-01 -1.65394783e-01\n",
            " -1.21812418e-01 -6.46750152e-01 -7.42784888e-02  4.61326510e-01\n",
            "  3.05800736e-01  1.45693168e-01 -2.60532588e-01  3.96551117e-02\n",
            " -2.19029631e-03  1.85315132e-01 -2.17351183e-01 -3.46569926e-01\n",
            "  3.59793343e-02 -1.38037473e-01 -1.50610000e-01  1.43435016e-01\n",
            " -6.49181962e-01  1.21862531e-01 -4.97012287e-02 -4.63305563e-01\n",
            " -3.75810787e-02 -7.83679307e-01 -1.37374237e-01  1.34784564e-01\n",
            " -6.48290038e-01  3.60487252e-01  4.98876482e-01  3.38756263e-01\n",
            "  1.45667106e-01  3.23820770e-01 -9.30890888e-02 -5.70334606e-02\n",
            "  1.57020167e-01 -2.05814779e-01  2.57867247e-01 -1.90952774e-02\n",
            "  4.52458501e-01 -1.44308075e-01  1.14779904e-01 -1.52709067e-01\n",
            "  5.44692241e-02 -1.42998189e-01 -8.75804946e-02  5.05233884e-01\n",
            " -2.36166745e-01  1.75181538e-01  4.32857871e-01  5.83568871e-01\n",
            " -3.39121938e-01 -3.25011425e-02  9.96321589e-02 -3.44433039e-02\n",
            "  6.14508353e-02  1.04089104e-01  6.64813444e-02 -4.51638699e-01\n",
            "  7.87007436e-02 -5.25511265e-01 -3.23879540e-01 -1.74694788e-02\n",
            "  3.02612036e-01  5.77409603e-02  1.20213062e-01  1.72068745e-01\n",
            " -1.24047995e-01  7.79765099e-02 -6.77977651e-02  1.17844865e-01\n",
            " -2.04703510e-01  3.59409958e-01 -4.12761979e-02 -1.67897090e-01\n",
            "  6.91675991e-02  2.20134869e-01  1.04034021e-01  3.59564632e-01\n",
            "  4.19921018e-02  4.52248240e-03  1.68765381e-01  3.74280624e-02\n",
            "  2.94638485e-01 -1.85100168e-01 -2.13319585e-01 -1.24351904e-01\n",
            "  1.44454792e-01  1.36652485e-01  1.58207074e-01  1.86350852e-01\n",
            "  1.76136151e-01  1.00470558e-01  3.73961538e-01  6.14766717e-01\n",
            "  5.85461929e-02  4.05343533e-01  1.32169118e-02 -2.93610960e-01\n",
            " -3.42023075e-01 -1.86371937e-01 -2.33834788e-01  2.84255147e-01\n",
            "  2.10742369e-01  3.64516973e-02  1.14796303e-01  1.60901874e-01\n",
            " -3.12875897e-01 -6.67018117e-03  1.49157224e-02  4.87897657e-02\n",
            "  1.74555495e-01  3.48612398e-01  4.28859927e-02  2.76390649e-02\n",
            "  3.28821152e-01 -1.32930204e-01  2.29918242e-01  9.85002816e-02\n",
            "  1.06576003e-01  2.58521497e-01  2.90100962e-01 -3.71095628e-01\n",
            "  9.40947235e-02  2.40039781e-01  3.69091719e-01 -3.16603959e-01\n",
            "  1.41637735e-02 -7.43181333e-02 -2.18609497e-01  6.10791445e-01\n",
            "  2.44329963e-03 -1.24624245e-01 -1.41105831e-01  1.85431227e-01\n",
            " -8.51158127e-02 -8.67544487e-02  3.14596370e-02 -2.71554857e-01\n",
            " -3.96688104e-01  5.89422047e-01  4.83606122e-02 -1.89046577e-01\n",
            " -7.43835941e-02 -1.15121089e-01  5.64649642e-01  4.74309437e-02\n",
            "  1.27600357e-01  4.71313186e-02  2.79861063e-01 -4.88908738e-01\n",
            "  6.62764549e-01  7.89994095e-03 -1.34454206e-01 -9.37028900e-02\n",
            " -2.80464534e-02 -5.23798279e-02 -2.50127241e-02 -1.47896588e-01\n",
            "  7.39103556e-02  2.05317531e-02  1.13202415e-01  8.32320079e-02\n",
            "  1.08228855e-01 -1.41530097e-01  3.48101884e-01  8.39494765e-02\n",
            "  7.08356559e-01 -1.12700246e-01  2.45667472e-01  2.94786483e-01\n",
            "  1.61484510e-01  7.97338784e-03 -1.59325674e-01 -5.37659645e-01\n",
            "  5.20613432e-01 -4.26525563e-01 -2.05825567e-02 -1.95357710e-01\n",
            "  1.32799044e-01  1.60108149e-01  5.29641390e-01 -2.04768218e-02\n",
            " -1.34909287e-01 -2.41649505e-02  7.31727630e-02  6.54213905e-01\n",
            "  8.17465037e-02 -5.50108314e-01  4.31007653e-01 -4.43834029e-02\n",
            " -3.07378527e-02  2.57185549e-01 -2.36656168e-03  4.99194721e-03\n",
            "  1.60750777e-01 -1.01826414e-01  1.41276434e-01  1.64580896e-01\n",
            "  1.67740554e-01  1.07488848e-01  9.48068649e-02  8.61694962e-02\n",
            "  3.63473564e-01  3.17317873e-01 -5.89557886e-01  2.42382959e-01\n",
            " -7.59799108e-02 -5.26308753e-02  1.39047086e-01  3.52889121e-01\n",
            "  5.76501042e-02  1.51139513e-01  9.13770646e-02 -1.95097268e-01\n",
            "  4.25296098e-01  2.44095430e-01  8.03197473e-02 -5.90756387e-02\n",
            " -4.70742345e-01 -6.53309003e-02 -9.00518745e-02  6.60803378e-01\n",
            "  1.82059016e-02 -1.96842819e-01  3.41565385e-02 -2.96215802e-01\n",
            " -2.30246007e-01 -1.72065362e-01  1.45999461e-01  1.32015273e-01\n",
            " -1.18966599e-03  3.78833085e-01  6.32081568e-01  3.46436650e-02\n",
            " -1.49821192e-01 -6.21017106e-02 -8.23798552e-02  5.85367717e-02\n",
            "  2.16264188e-01 -6.29084855e-02  6.20018914e-02  2.16217916e-02\n",
            "  4.70242323e-03  4.37050790e-01  7.07838498e-03 -2.30809480e-01\n",
            "  1.53245345e-01 -2.49979291e-02 -2.19426677e-01  5.45486994e-02\n",
            "  8.38834420e-02  1.88682362e-01  3.70091528e-01 -4.22872096e-01\n",
            " -1.24930657e-01 -2.69593179e-01  2.51920819e-01 -3.61866266e-01\n",
            " -2.15015098e-01 -7.60520343e-03  7.36185238e-02  5.55364862e-02\n",
            " -9.58213769e-03  1.36815459e-02 -3.02632391e-01  2.38558874e-02\n",
            "  1.41263783e-01 -4.32491861e-02 -1.14614263e-01  1.03307761e-01\n",
            " -1.15131989e-01  1.18440054e-01 -3.59807126e-02 -3.46759558e-02\n",
            "  9.20868888e-02 -1.69816256e-01 -2.80375272e-01  1.60843208e-01\n",
            "  2.77752459e-01 -9.51627195e-02 -1.99717805e-01 -7.04329312e-02\n",
            " -1.06461711e-01 -7.63687640e-02 -1.41598031e-01  2.14936942e-01\n",
            " -2.61029676e-02  1.88225880e-01 -3.02323014e-01  2.99160123e-01\n",
            "  4.83905882e-01  7.48475790e-02 -2.71032006e-01 -3.71982902e-01\n",
            " -9.42008346e-02 -2.74191678e-01 -5.57813011e-02 -1.65558197e-02\n",
            "  3.02548736e-01  3.88578861e-03  2.28226006e-01  2.51894116e-01\n",
            "  5.22136800e-02  3.56637798e-02 -2.38843992e-01 -3.28458488e-01\n",
            "  1.24967016e-01  4.14068364e-02  7.34874383e-02 -2.01402619e-01\n",
            " -1.11174785e-01  3.52746874e-01  5.82723558e-01  2.35697806e-01\n",
            " -1.84264930e-03  1.13851853e-01  2.40031540e-01 -2.50791192e-01\n",
            " -7.35481903e-02 -2.51697719e-01  6.55010790e-02 -1.01375449e-02\n",
            "  1.75398603e-01 -3.32555950e-01  3.11179161e-01 -9.13700275e-03\n",
            "  1.21488869e-02  7.88403228e-02  1.50392053e-03  5.25432050e-01\n",
            " -1.66991144e-01  2.13474661e-01 -7.23808557e-02 -3.61011326e-01\n",
            " -1.18192434e-01  1.77225575e-01 -2.06703059e-02  1.86640881e-02\n",
            " -2.01615572e-01  4.83340099e-02  1.47072211e-01 -3.90661120e-01\n",
            "  4.62430328e-01  2.18639210e-01  4.31705654e-01  1.41246349e-01\n",
            "  3.67347419e-01  1.97863169e-02 -5.31978719e-02 -1.08351089e-01\n",
            " -1.32195070e-01  1.95401963e-02 -4.22834963e-01  3.06152999e-01\n",
            " -2.23009199e-01  1.66308776e-01  3.11838519e-02 -1.60957888e-01\n",
            "  1.93719953e-01  1.04412779e-01  1.08787693e-01 -1.83505982e-01\n",
            "  2.01504394e-01 -2.59540349e-01 -3.52354646e-02 -4.81947064e-02\n",
            "  3.40108067e-01  6.22669794e-02  8.71047527e-02 -4.13571537e-01\n",
            " -3.37048471e-01 -6.27336577e-02 -4.57817227e-01 -5.67889735e-02\n",
            " -4.10147160e-01 -1.89458683e-01 -1.25382572e-01  1.00514174e-01\n",
            " -3.36514562e-02 -1.94397960e-02 -2.69983523e-02  2.52259135e-01\n",
            "  1.44360453e-01  1.31051123e-01 -1.61765926e-02 -1.06020108e-01\n",
            " -1.74827650e-02 -1.79677516e-01 -2.09320009e-01 -7.07499608e-02\n",
            "  1.62290558e-01  1.83639556e-01  3.33713204e-01 -1.53117269e-01\n",
            " -8.36249292e-02  9.92215648e-02  3.13187957e-01 -3.68323594e-01\n",
            " -1.66608900e-01  1.24535777e-01 -3.56764793e-01 -1.12998135e-01\n",
            "  1.42356932e-01 -3.06499571e-01 -4.42244150e-02 -4.69899252e-02\n",
            "  2.65319329e-02  1.17956035e-01 -2.66440609e-03 -2.79965311e-01\n",
            " -2.89716292e-02 -9.43553597e-02  1.32492915e-01  4.52425592e-02\n",
            " -3.96557629e-01  1.17721766e-01  2.29199212e-02  7.59601891e-02\n",
            " -5.24877869e-02  2.76296735e-01  1.28691993e-03 -9.53978151e-02\n",
            " -3.85481983e-01 -7.86556210e-03 -3.60849589e-01  4.86260682e-01\n",
            " -7.43489563e-02  5.48551418e-02 -2.66245306e-01  2.14770541e-01\n",
            "  4.53849323e-03  2.08777487e-01  4.22713272e-02  2.37508416e-02\n",
            "  1.43322662e-01  6.96963146e-02 -4.43706065e-02  3.10216099e-01\n",
            "  2.98009992e-01  1.38804540e-01  1.87939867e-01 -7.51303509e-02\n",
            " -1.23519741e-01  1.87492058e-01  4.12036270e-01 -2.08874464e-01\n",
            " -7.58318827e-02  9.61403474e-02  2.39733443e-01  2.17622891e-01\n",
            "  4.59563732e-02 -6.04250617e-02  2.98512429e-01  6.73794895e-02\n",
            " -3.97748090e-02 -6.90956786e-02 -5.32075837e-02 -1.23968888e-02\n",
            " -1.99066848e-01 -2.55626410e-01  1.97862238e-01 -1.06045060e-01\n",
            " -5.16534820e-02 -1.75326556e-01  1.74555615e-01 -3.54081951e-02\n",
            "  4.84277427e-01 -1.55533925e-01  2.03217551e-01  7.82514177e-03\n",
            " -2.29808420e-01  2.78392863e-02 -4.96840477e-01  1.90932795e-01\n",
            " -8.99063796e-02  1.52755722e-01  1.05582029e-01  7.02677071e-01\n",
            " -6.36513978e-02  4.23125029e-02  3.37979853e-01 -2.01666653e-01\n",
            " -1.28356531e-01  2.35419482e-01 -1.10118046e-01  1.60569668e-01\n",
            "  1.44336998e-01  1.43787399e-01  1.51625676e-02  1.00372434e-01\n",
            "  1.46883532e-01 -3.40315849e-02 -4.16650981e-01 -1.27899066e-01\n",
            "  2.91505288e-02 -5.63505245e-03  8.81981552e-02  1.06602646e-01\n",
            " -2.69582905e-02 -1.50907934e-01 -3.79841954e-01 -1.94770873e-01\n",
            "  1.38770387e-01 -1.70722902e-01 -5.46640933e-01  1.66477710e-01\n",
            "  3.42209518e-01  1.51676118e-01  1.23025462e-01  2.14580521e-01\n",
            " -6.34311214e-02 -4.42006141e-01 -6.37947440e-01  1.68090373e-01\n",
            "  8.00567493e-02  1.66969538e-01  1.90298837e-02  1.23902462e-01\n",
            " -1.18720926e-01 -2.01068640e-01 -3.06565091e-02  1.19708575e-01\n",
            "  6.92745522e-02 -3.89225334e-01  2.64759004e-01 -9.62813273e-02\n",
            "  3.26381326e-01  4.20188785e-01 -6.10854775e-02  3.41764808e-01\n",
            " -7.94905722e-02 -1.05740741e-01 -2.55247876e-02 -2.58499831e-01\n",
            " -7.94179663e-02  4.62439209e-01 -3.60077806e-02 -7.92917311e-02\n",
            "  1.94105491e-01 -5.00755794e-02 -1.82599649e-01 -2.36868992e-01\n",
            "  4.22768854e-02  3.17091614e-01 -6.88086227e-02 -5.18157659e-03\n",
            "  2.81446368e-01 -3.70328814e-01 -2.87486911e-01 -4.45438415e-01\n",
            "  3.74487281e-01 -3.77262205e-01  2.89886117e-01 -2.07713041e-02\n",
            " -6.03573695e-02 -3.88211608e-02  2.55276769e-01 -2.46941596e-01\n",
            "  5.81946895e-02 -1.52296126e-01 -1.36253133e-01 -1.30555093e-01\n",
            "  4.53951389e-01  1.40591577e-01 -2.51343418e-02  6.23504594e-02\n",
            "  4.57820371e-02 -4.64019865e-01 -8.39446634e-02 -3.51821363e-01\n",
            " -1.37398634e-02  1.14973165e-01 -2.12351587e-02 -2.42822066e-01\n",
            " -3.50144506e-01  1.76363662e-02 -2.07062796e-01 -5.12336671e-01\n",
            " -3.17957290e-02 -8.41991544e-01  1.02304563e-01  1.07924761e-02\n",
            " -6.46299422e-01 -1.25958532e-01 -1.19623393e-02 -7.36929029e-02\n",
            "  1.67453259e-01  2.87370712e-01 -2.64128834e-01  2.43143126e-01\n",
            "  3.07916582e-01  2.24937666e-02  3.07316538e-02 -1.69527724e-01\n",
            "  2.31765602e-02 -8.91338214e-02  1.01188459e-01  4.80778188e-01\n",
            "  3.55322659e-01 -2.14883145e-02 -3.63745987e-01  1.03979871e-01\n",
            " -1.86795704e-02 -4.54743998e-03 -2.68596917e-01 -6.80189282e-02\n",
            " -1.59281731e-01  9.89807025e-03  6.58660769e-01 -4.51139271e-01\n",
            "  2.06051826e-01 -9.82858241e-02  1.39318526e-01 -1.82459980e-01\n",
            " -3.57305259e-01  1.40507504e-01  2.76148975e-01  3.01881194e-01\n",
            "  2.34476551e-01 -3.60065043e-01 -6.73747122e-01 -1.03537448e-01\n",
            " -1.80337161e-01 -1.21824659e-01 -3.02093953e-01 -1.15329467e-01\n",
            " -2.80293465e-01  7.35270903e-02  1.36585772e-01 -2.00325951e-01\n",
            " -1.37581274e-01  8.34931657e-02  3.73463146e-02  9.40383598e-02\n",
            " -1.57984659e-01 -3.67792308e-01 -3.07702750e-01  1.95255559e-02\n",
            " -2.44563017e-02 -2.07524776e-01  8.50561336e-02  2.04995573e-02\n",
            "  2.91268259e-01  3.91353637e-01 -3.30403388e-01  3.13747138e-01\n",
            " -1.22644253e-01  3.48155677e-01  1.86690278e-02 -1.59991071e-01\n",
            "  1.22505262e-01 -2.68944442e-01  1.80014551e-01 -3.11058640e-01\n",
            " -4.74697091e-02  1.45788878e-01  2.05649689e-01  7.11840212e-01\n",
            "  2.97551572e-01  2.60152638e-01  3.64828676e-01 -2.86104536e-04\n",
            " -2.60755513e-02 -2.41801456e-01  3.12272221e-01 -2.20900089e-01\n",
            " -1.80724278e-01  8.82137641e-02  3.57889771e-01 -2.74204135e-01\n",
            " -2.03520492e-01  1.81390420e-01  3.08235705e-01  2.75341626e-02\n",
            " -3.33209425e-01 -1.20631091e-01 -1.25051200e-01 -1.79288000e-01\n",
            " -1.32438958e-01 -1.77330732e-01  8.53081569e-02  3.42180878e-01\n",
            "  8.99876535e-01  1.07019790e-01  5.45545638e-01 -1.93027705e-01\n",
            "  1.89706758e-01  1.99665040e-01  1.46926686e-01  1.33561045e-01\n",
            "  2.51061231e-01  1.02040909e-01  1.45274699e-01  3.50479573e-01]\n"
          ]
        }
      ]
    },
    {
      "cell_type": "code",
      "source": [
        "query_embeddings.shape"
      ],
      "metadata": {
        "colab": {
          "base_uri": "https://localhost:8080/"
        },
        "id": "k5sxdVpRZPYs",
        "outputId": "f1fe3838-d223-4f59-dbad-8b8aa15dfc72"
      },
      "execution_count": 92,
      "outputs": [
        {
          "output_type": "execute_result",
          "data": {
            "text/plain": [
              "(768,)"
            ]
          },
          "metadata": {},
          "execution_count": 92
        }
      ]
    },
    {
      "cell_type": "code",
      "source": [
        "import numpy as np\n",
        "from sklearn.metrics.pairwise import cosine_similarity"
      ],
      "metadata": {
        "id": "SbTIJUQwZmTj"
      },
      "execution_count": 93,
      "outputs": []
    },
    {
      "cell_type": "code",
      "source": [
        "similarities = cosine_similarity(np.array([query_embeddings]),document_embedding)"
      ],
      "metadata": {
        "id": "nOeKO5LgZSVq"
      },
      "execution_count": 94,
      "outputs": []
    },
    {
      "cell_type": "code",
      "source": [
        "similarities"
      ],
      "metadata": {
        "colab": {
          "base_uri": "https://localhost:8080/"
        },
        "id": "pyvlYZDJZzhH",
        "outputId": "717735b2-c694-4c76-89dd-c4103ef5d6ba"
      },
      "execution_count": 95,
      "outputs": [
        {
          "output_type": "execute_result",
          "data": {
            "text/plain": [
              "array([[0.17273088, 0.43841004, 0.5416846 , 0.41144696, 0.6171361 ,\n",
              "        0.7287992 , 0.55241686, 0.7289753 ]], dtype=float32)"
            ]
          },
          "metadata": {},
          "execution_count": 95
        }
      ]
    },
    {
      "cell_type": "code",
      "source": [
        "most_similar_index = np.argmax(similarities)"
      ],
      "metadata": {
        "id": "cXH7I3C5Z1Ev"
      },
      "execution_count": 96,
      "outputs": []
    },
    {
      "cell_type": "code",
      "source": [
        "most_similar_index"
      ],
      "metadata": {
        "colab": {
          "base_uri": "https://localhost:8080/"
        },
        "id": "-xwSPNTkZ9LB",
        "outputId": "491cca21-151e-4c3f-c5bb-a21afd212df3"
      },
      "execution_count": 97,
      "outputs": [
        {
          "output_type": "execute_result",
          "data": {
            "text/plain": [
              "np.int64(7)"
            ]
          },
          "metadata": {},
          "execution_count": 97
        }
      ]
    },
    {
      "cell_type": "code",
      "source": [
        "most_similar_document = documents[most_similar_index]"
      ],
      "metadata": {
        "id": "jXsexMzUZ-sS"
      },
      "execution_count": 98,
      "outputs": []
    },
    {
      "cell_type": "code",
      "source": [
        "most_similar_document"
      ],
      "metadata": {
        "colab": {
          "base_uri": "https://localhost:8080/",
          "height": 36
        },
        "id": "6WiOqIhdaHqv",
        "outputId": "91ec2cb5-0476-4158-e42c-cddcfa2d2d04"
      },
      "execution_count": 99,
      "outputs": [
        {
          "output_type": "execute_result",
          "data": {
            "text/plain": [
              "'Machine learning algorithms can optimize keyword extraction methods.'"
            ],
            "application/vnd.google.colaboratory.intrinsic+json": {
              "type": "string"
            }
          },
          "metadata": {},
          "execution_count": 99
        }
      ]
    },
    {
      "cell_type": "code",
      "source": [
        "query"
      ],
      "metadata": {
        "colab": {
          "base_uri": "https://localhost:8080/",
          "height": 36
        },
        "id": "c0JU5i9EaI-v",
        "outputId": "d8fa6ee0-46ed-42e5-b5e8-5d99f0a8e6fe"
      },
      "execution_count": 100,
      "outputs": [
        {
          "output_type": "execute_result",
          "data": {
            "text/plain": [
              "'Natural Language Processing techniques enhances keyword extraction and efficiency.'"
            ],
            "application/vnd.google.colaboratory.intrinsic+json": {
              "type": "string"
            }
          },
          "metadata": {},
          "execution_count": 100
        }
      ]
    },
    {
      "cell_type": "code",
      "source": [
        "similarity_score = similarities[0][most_similar_index]"
      ],
      "metadata": {
        "id": "sATf6UDRaUFo"
      },
      "execution_count": 101,
      "outputs": []
    },
    {
      "cell_type": "code",
      "source": [
        "similarity_score"
      ],
      "metadata": {
        "colab": {
          "base_uri": "https://localhost:8080/"
        },
        "id": "XzeNiFMZbaHw",
        "outputId": "9dfe12a9-009a-45d1-ecda-ecac62b306ce"
      },
      "execution_count": 102,
      "outputs": [
        {
          "output_type": "execute_result",
          "data": {
            "text/plain": [
              "np.float32(0.7289753)"
            ]
          },
          "metadata": {},
          "execution_count": 102
        }
      ]
    },
    {
      "cell_type": "code",
      "source": [
        "sorted_indices = np.argsort(similarities[0])[::-1]"
      ],
      "metadata": {
        "id": "olqfSOmPcpTL"
      },
      "execution_count": 103,
      "outputs": []
    },
    {
      "cell_type": "code",
      "source": [
        "sorted_indices"
      ],
      "metadata": {
        "colab": {
          "base_uri": "https://localhost:8080/"
        },
        "id": "ydpjlYZFc25B",
        "outputId": "b0ea1eff-4e18-4aa4-f3ab-77ba55e62f1e"
      },
      "execution_count": 104,
      "outputs": [
        {
          "output_type": "execute_result",
          "data": {
            "text/plain": [
              "array([7, 5, 4, 6, 2, 1, 3, 0])"
            ]
          },
          "metadata": {},
          "execution_count": 104
        }
      ]
    },
    {
      "cell_type": "code",
      "source": [
        "ranked_document = [(documents[i], similarities[0][i]) for i in sorted_indices]"
      ],
      "metadata": {
        "id": "S2yWMUJgc4sm"
      },
      "execution_count": 105,
      "outputs": []
    },
    {
      "cell_type": "code",
      "source": [
        "ranked_document"
      ],
      "metadata": {
        "colab": {
          "base_uri": "https://localhost:8080/"
        },
        "id": "NfrFJGdUdHui",
        "outputId": "05416e80-1f69-4620-8f46-25371e9c0d54"
      },
      "execution_count": 106,
      "outputs": [
        {
          "output_type": "execute_result",
          "data": {
            "text/plain": [
              "[('Machine learning algorithms can optimize keyword extraction methods.',\n",
              "  np.float32(0.7289753)),\n",
              " ('Efficient keyword extraction enhances search accuracy.',\n",
              "  np.float32(0.7287992)),\n",
              " ('Understanding document structure aids in keyword extraction.',\n",
              "  np.float32(0.6171361)),\n",
              " ('Semantic similarity improves document retrieval performance.',\n",
              "  np.float32(0.55241686)),\n",
              " ('Document analysis involves extracting keywords.', np.float32(0.5416846)),\n",
              " ('Keywords are important for keyword-based search.', np.float32(0.43841004)),\n",
              " ('Keyword-based search relies on sparse embeddings.', np.float32(0.41144696)),\n",
              " ('This is a list which containing sample documents.', np.float32(0.17273088))]"
            ]
          },
          "metadata": {},
          "execution_count": 106
        }
      ]
    },
    {
      "cell_type": "code",
      "source": [
        "query"
      ],
      "metadata": {
        "colab": {
          "base_uri": "https://localhost:8080/",
          "height": 36
        },
        "id": "M96ELlhmdJAm",
        "outputId": "ecd3638a-eb60-441d-f0b1-0940e8f28a5d"
      },
      "execution_count": 107,
      "outputs": [
        {
          "output_type": "execute_result",
          "data": {
            "text/plain": [
              "'Natural Language Processing techniques enhances keyword extraction and efficiency.'"
            ],
            "application/vnd.google.colaboratory.intrinsic+json": {
              "type": "string"
            }
          },
          "metadata": {},
          "execution_count": 107
        }
      ]
    },
    {
      "cell_type": "code",
      "source": [
        "print(\"Top 4 document\")\n",
        "for rank, (document, similarity) in enumerate(ranked_document[:4], start=1):\n",
        "    print(f\"Rank {rank}:\")\n",
        "    print(f\"Document: {document}\")\n",
        "    print(f\"Similarity Score: {similarity}\\n\")"
      ],
      "metadata": {
        "colab": {
          "base_uri": "https://localhost:8080/"
        },
        "id": "tfF8lSBtdTa1",
        "outputId": "a372248c-639a-42aa-a859-8e98c7bb2cf4"
      },
      "execution_count": 108,
      "outputs": [
        {
          "output_type": "stream",
          "name": "stdout",
          "text": [
            "Top 4 document\n",
            "Rank 1:\n",
            "Document: Machine learning algorithms can optimize keyword extraction methods.\n",
            "Similarity Score: 0.7289752960205078\n",
            "\n",
            "Rank 2:\n",
            "Document: Efficient keyword extraction enhances search accuracy.\n",
            "Similarity Score: 0.7287992238998413\n",
            "\n",
            "Rank 3:\n",
            "Document: Understanding document structure aids in keyword extraction.\n",
            "Similarity Score: 0.6171361207962036\n",
            "\n",
            "Rank 4:\n",
            "Document: Semantic similarity improves document retrieval performance.\n",
            "Similarity Score: 0.5524168610572815\n",
            "\n"
          ]
        }
      ]
    },
    {
      "cell_type": "code",
      "source": [
        "query"
      ],
      "metadata": {
        "colab": {
          "base_uri": "https://localhost:8080/",
          "height": 36
        },
        "id": "35IBtjvvm_Tw",
        "outputId": "381b9d60-7539-4298-fd88-f1ca9d42def1"
      },
      "execution_count": 109,
      "outputs": [
        {
          "output_type": "execute_result",
          "data": {
            "text/plain": [
              "'Natural Language Processing techniques enhances keyword extraction and efficiency.'"
            ],
            "application/vnd.google.colaboratory.intrinsic+json": {
              "type": "string"
            }
          },
          "metadata": {},
          "execution_count": 109
        }
      ]
    },
    {
      "cell_type": "markdown",
      "source": [
        "#BM25"
      ],
      "metadata": {
        "id": "10EcNxaAga0w"
      }
    },
    {
      "cell_type": "code",
      "source": [
        "!pip install rank_bm25"
      ],
      "metadata": {
        "colab": {
          "base_uri": "https://localhost:8080/"
        },
        "id": "EMstVK1up1mE",
        "outputId": "33de5091-7994-4b3b-a063-3c5a9a4d799c"
      },
      "execution_count": 110,
      "outputs": [
        {
          "output_type": "stream",
          "name": "stdout",
          "text": [
            "Requirement already satisfied: rank_bm25 in /usr/local/lib/python3.11/dist-packages (0.2.2)\n",
            "Requirement already satisfied: numpy in /usr/local/lib/python3.11/dist-packages (from rank_bm25) (2.0.2)\n"
          ]
        }
      ]
    },
    {
      "cell_type": "code",
      "source": [
        "from rank_bm25 import BM25Okapi"
      ],
      "metadata": {
        "id": "5-0M1GK5p6WC"
      },
      "execution_count": 111,
      "outputs": []
    },
    {
      "cell_type": "code",
      "source": [
        "top_4_documents = [doc[0] for doc in ranked_document[:4]]"
      ],
      "metadata": {
        "id": "sUhnlkNwqKpE"
      },
      "execution_count": 112,
      "outputs": []
    },
    {
      "cell_type": "code",
      "source": [
        "top_4_documents"
      ],
      "metadata": {
        "colab": {
          "base_uri": "https://localhost:8080/"
        },
        "id": "QLd0ebvBqZft",
        "outputId": "9c31a4c6-097f-43d5-d23c-083b9eafa939"
      },
      "execution_count": 113,
      "outputs": [
        {
          "output_type": "execute_result",
          "data": {
            "text/plain": [
              "['Machine learning algorithms can optimize keyword extraction methods.',\n",
              " 'Efficient keyword extraction enhances search accuracy.',\n",
              " 'Understanding document structure aids in keyword extraction.',\n",
              " 'Semantic similarity improves document retrieval performance.']"
            ]
          },
          "metadata": {},
          "execution_count": 113
        }
      ]
    },
    {
      "cell_type": "code",
      "source": [
        "tokenized_top_4_document = [doc.split() for doc in top_4_documents]"
      ],
      "metadata": {
        "id": "9cPL9eO5qavX"
      },
      "execution_count": 114,
      "outputs": []
    },
    {
      "cell_type": "code",
      "source": [
        "tokenized_top_4_document"
      ],
      "metadata": {
        "colab": {
          "base_uri": "https://localhost:8080/"
        },
        "id": "8nL9VcqTqkRs",
        "outputId": "eb8649bc-d03d-40c1-83e2-7b5acd4ef6a3"
      },
      "execution_count": 115,
      "outputs": [
        {
          "output_type": "execute_result",
          "data": {
            "text/plain": [
              "[['Machine',\n",
              "  'learning',\n",
              "  'algorithms',\n",
              "  'can',\n",
              "  'optimize',\n",
              "  'keyword',\n",
              "  'extraction',\n",
              "  'methods.'],\n",
              " ['Efficient', 'keyword', 'extraction', 'enhances', 'search', 'accuracy.'],\n",
              " ['Understanding',\n",
              "  'document',\n",
              "  'structure',\n",
              "  'aids',\n",
              "  'in',\n",
              "  'keyword',\n",
              "  'extraction.'],\n",
              " ['Semantic',\n",
              "  'similarity',\n",
              "  'improves',\n",
              "  'document',\n",
              "  'retrieval',\n",
              "  'performance.']]"
            ]
          },
          "metadata": {},
          "execution_count": 115
        }
      ]
    },
    {
      "cell_type": "code",
      "source": [
        "tokenized_query = query.split()"
      ],
      "metadata": {
        "id": "PamJWZgkqlP0"
      },
      "execution_count": 116,
      "outputs": []
    },
    {
      "cell_type": "code",
      "source": [
        "tokenized_query"
      ],
      "metadata": {
        "colab": {
          "base_uri": "https://localhost:8080/"
        },
        "id": "9NzGM4VpJcgR",
        "outputId": "d018207c-5d32-4d57-ba89-7f4a7c4923e8"
      },
      "execution_count": 117,
      "outputs": [
        {
          "output_type": "execute_result",
          "data": {
            "text/plain": [
              "['Natural',\n",
              " 'Language',\n",
              " 'Processing',\n",
              " 'techniques',\n",
              " 'enhances',\n",
              " 'keyword',\n",
              " 'extraction',\n",
              " 'and',\n",
              " 'efficiency.']"
            ]
          },
          "metadata": {},
          "execution_count": 117
        }
      ]
    },
    {
      "cell_type": "code",
      "source": [
        "bm25 = BM25Okapi(tokenized_top_4_document)"
      ],
      "metadata": {
        "id": "w0CwgzuUJdlh"
      },
      "execution_count": 118,
      "outputs": []
    },
    {
      "cell_type": "code",
      "source": [
        "bm25"
      ],
      "metadata": {
        "colab": {
          "base_uri": "https://localhost:8080/"
        },
        "id": "xgE4ZRKWJj2K",
        "outputId": "6af7edd3-45de-4b96-bb47-55d516b235f7"
      },
      "execution_count": 119,
      "outputs": [
        {
          "output_type": "execute_result",
          "data": {
            "text/plain": [
              "<rank_bm25.BM25Okapi at 0x7e12f1961990>"
            ]
          },
          "metadata": {},
          "execution_count": 119
        }
      ]
    },
    {
      "cell_type": "code",
      "source": [
        "bm25_scores = bm25.get_scores(tokenized_query)"
      ],
      "metadata": {
        "id": "f38ptZSDJycz"
      },
      "execution_count": 120,
      "outputs": []
    },
    {
      "cell_type": "code",
      "source": [
        "bm25_scores"
      ],
      "metadata": {
        "colab": {
          "base_uri": "https://localhost:8080/"
        },
        "id": "75ceQyGyJ4km",
        "outputId": "2f0a1d8c-3a7e-477b-a1ac-e7c1039838fe"
      },
      "execution_count": 121,
      "outputs": [
        {
          "output_type": "execute_result",
          "data": {
            "text/plain": [
              "array([0.16152501, 1.07608767, 0.17211681, 0.        ])"
            ]
          },
          "metadata": {},
          "execution_count": 121
        }
      ]
    },
    {
      "cell_type": "code",
      "source": [
        "sorted_indices = np.argsort(bm25_scores)[::-1]"
      ],
      "metadata": {
        "id": "nlA-xn5wJ8Uc"
      },
      "execution_count": 122,
      "outputs": []
    },
    {
      "cell_type": "code",
      "source": [
        "sorted_indices"
      ],
      "metadata": {
        "colab": {
          "base_uri": "https://localhost:8080/"
        },
        "id": "H66rQwxKKLsm",
        "outputId": "73c1f17f-241f-4b9d-ffed-117adeb9de57"
      },
      "execution_count": 123,
      "outputs": [
        {
          "output_type": "execute_result",
          "data": {
            "text/plain": [
              "array([1, 2, 0, 3])"
            ]
          },
          "metadata": {},
          "execution_count": 123
        }
      ]
    },
    {
      "cell_type": "code",
      "source": [
        "top_4_documents"
      ],
      "metadata": {
        "colab": {
          "base_uri": "https://localhost:8080/"
        },
        "id": "sjyid6KAKM-3",
        "outputId": "02e46e36-1395-4277-8366-80fdcebd4bf0"
      },
      "execution_count": 124,
      "outputs": [
        {
          "output_type": "execute_result",
          "data": {
            "text/plain": [
              "['Machine learning algorithms can optimize keyword extraction methods.',\n",
              " 'Efficient keyword extraction enhances search accuracy.',\n",
              " 'Understanding document structure aids in keyword extraction.',\n",
              " 'Semantic similarity improves document retrieval performance.']"
            ]
          },
          "metadata": {},
          "execution_count": 124
        }
      ]
    },
    {
      "cell_type": "code",
      "source": [
        "query"
      ],
      "metadata": {
        "colab": {
          "base_uri": "https://localhost:8080/",
          "height": 36
        },
        "id": "f0_-VdeQKQFn",
        "outputId": "60d6eed1-3434-4cde-f9f8-0ef8ebb4605c"
      },
      "execution_count": 125,
      "outputs": [
        {
          "output_type": "execute_result",
          "data": {
            "text/plain": [
              "'Natural Language Processing techniques enhances keyword extraction and efficiency.'"
            ],
            "application/vnd.google.colaboratory.intrinsic+json": {
              "type": "string"
            }
          },
          "metadata": {},
          "execution_count": 125
        }
      ]
    },
    {
      "cell_type": "code",
      "source": [
        "reranked_document = [(top_4_documents[i],bm25_scores[i])for i in sorted_indices]"
      ],
      "metadata": {
        "id": "QYslagyCKRGn"
      },
      "execution_count": 126,
      "outputs": []
    },
    {
      "cell_type": "code",
      "source": [
        "reranked_document"
      ],
      "metadata": {
        "colab": {
          "base_uri": "https://localhost:8080/"
        },
        "id": "_ePjuX9fKmwT",
        "outputId": "0ef4fcaf-b5d8-4bb4-a02e-3f0cad1d9ca8"
      },
      "execution_count": 127,
      "outputs": [
        {
          "output_type": "execute_result",
          "data": {
            "text/plain": [
              "[('Efficient keyword extraction enhances search accuracy.',\n",
              "  np.float64(1.0760876716588057)),\n",
              " ('Understanding document structure aids in keyword extraction.',\n",
              "  np.float64(0.1721168141199951)),\n",
              " ('Machine learning algorithms can optimize keyword extraction methods.',\n",
              "  np.float64(0.16152501017414925)),\n",
              " ('Semantic similarity improves document retrieval performance.',\n",
              "  np.float64(0.0))]"
            ]
          },
          "metadata": {},
          "execution_count": 127
        }
      ]
    },
    {
      "cell_type": "code",
      "source": [
        "ranked_document[:4]"
      ],
      "metadata": {
        "colab": {
          "base_uri": "https://localhost:8080/"
        },
        "id": "rUVyaF7zKoAL",
        "outputId": "c3d1965d-07fd-450c-e00d-51d4ac8aa73d"
      },
      "execution_count": 128,
      "outputs": [
        {
          "output_type": "execute_result",
          "data": {
            "text/plain": [
              "[('Machine learning algorithms can optimize keyword extraction methods.',\n",
              "  np.float32(0.7289753)),\n",
              " ('Efficient keyword extraction enhances search accuracy.',\n",
              "  np.float32(0.7287992)),\n",
              " ('Understanding document structure aids in keyword extraction.',\n",
              "  np.float32(0.6171361)),\n",
              " ('Semantic similarity improves document retrieval performance.',\n",
              "  np.float32(0.55241686))]"
            ]
          },
          "metadata": {},
          "execution_count": 128
        }
      ]
    },
    {
      "cell_type": "markdown",
      "source": [
        "#Cross Encoder"
      ],
      "metadata": {
        "id": "musfECukLNJ4"
      }
    },
    {
      "cell_type": "code",
      "source": [
        "from sentence_transformers import CrossEncoder"
      ],
      "metadata": {
        "id": "CVR7DnNuggJY"
      },
      "execution_count": 129,
      "outputs": []
    },
    {
      "cell_type": "code",
      "source": [
        "cross_encoder = CrossEncoder('cross-encoder/ms-marco-MiniLM-L-6-v2')"
      ],
      "metadata": {
        "id": "DtPuM3xOhgxa"
      },
      "execution_count": 130,
      "outputs": []
    },
    {
      "cell_type": "code",
      "source": [
        "top_4_documents"
      ],
      "metadata": {
        "colab": {
          "base_uri": "https://localhost:8080/"
        },
        "id": "mzYFU93rhndZ",
        "outputId": "1a23b01a-7767-4938-cd9e-60e7bc899cb3"
      },
      "execution_count": 131,
      "outputs": [
        {
          "output_type": "execute_result",
          "data": {
            "text/plain": [
              "['Machine learning algorithms can optimize keyword extraction methods.',\n",
              " 'Efficient keyword extraction enhances search accuracy.',\n",
              " 'Understanding document structure aids in keyword extraction.',\n",
              " 'Semantic similarity improves document retrieval performance.']"
            ]
          },
          "metadata": {},
          "execution_count": 131
        }
      ]
    },
    {
      "cell_type": "code",
      "source": [
        "query"
      ],
      "metadata": {
        "colab": {
          "base_uri": "https://localhost:8080/",
          "height": 36
        },
        "id": "yGdZ-ow1hprS",
        "outputId": "1958fb8a-c973-408a-c818-9b87a15daf41"
      },
      "execution_count": 132,
      "outputs": [
        {
          "output_type": "execute_result",
          "data": {
            "text/plain": [
              "'Natural Language Processing techniques enhances keyword extraction and efficiency.'"
            ],
            "application/vnd.google.colaboratory.intrinsic+json": {
              "type": "string"
            }
          },
          "metadata": {},
          "execution_count": 132
        }
      ]
    },
    {
      "cell_type": "code",
      "source": [
        "pairs = []\n",
        "for doc in top_4_documents:\n",
        "  pairs.append([query,doc])"
      ],
      "metadata": {
        "id": "H8IfOD3Nhq-L"
      },
      "execution_count": 133,
      "outputs": []
    },
    {
      "cell_type": "code",
      "source": [
        "pairs"
      ],
      "metadata": {
        "colab": {
          "base_uri": "https://localhost:8080/"
        },
        "id": "xwFz79zvh2El",
        "outputId": "5544666f-76a6-4733-c860-f802a22ad6e2"
      },
      "execution_count": 134,
      "outputs": [
        {
          "output_type": "execute_result",
          "data": {
            "text/plain": [
              "[['Natural Language Processing techniques enhances keyword extraction and efficiency.',\n",
              "  'Machine learning algorithms can optimize keyword extraction methods.'],\n",
              " ['Natural Language Processing techniques enhances keyword extraction and efficiency.',\n",
              "  'Efficient keyword extraction enhances search accuracy.'],\n",
              " ['Natural Language Processing techniques enhances keyword extraction and efficiency.',\n",
              "  'Understanding document structure aids in keyword extraction.'],\n",
              " ['Natural Language Processing techniques enhances keyword extraction and efficiency.',\n",
              "  'Semantic similarity improves document retrieval performance.']]"
            ]
          },
          "metadata": {},
          "execution_count": 134
        }
      ]
    },
    {
      "cell_type": "code",
      "source": [
        "scores = cross_encoder.predict(pairs)"
      ],
      "metadata": {
        "id": "3tS12HG5h3hc"
      },
      "execution_count": 135,
      "outputs": []
    },
    {
      "cell_type": "code",
      "source": [
        "scores"
      ],
      "metadata": {
        "colab": {
          "base_uri": "https://localhost:8080/"
        },
        "id": "UXmm06uvh9ys",
        "outputId": "f12f8f0e-8630-4a03-d84a-4723ecbcc6c7"
      },
      "execution_count": 136,
      "outputs": [
        {
          "output_type": "execute_result",
          "data": {
            "text/plain": [
              "array([ 0.7302185,  3.808076 , -2.275875 , -8.559866 ], dtype=float32)"
            ]
          },
          "metadata": {},
          "execution_count": 136
        }
      ]
    },
    {
      "cell_type": "code",
      "source": [
        "scored_docs = zip(scores,top_4_documents)\n",
        "scored_docs"
      ],
      "metadata": {
        "colab": {
          "base_uri": "https://localhost:8080/"
        },
        "id": "Mt9J6YmliABd",
        "outputId": "25ff0b41-e0d4-4f6a-8308-e0a2d0f8cc0a"
      },
      "execution_count": 137,
      "outputs": [
        {
          "output_type": "execute_result",
          "data": {
            "text/plain": [
              "<zip at 0x7e12ebe5e540>"
            ]
          },
          "metadata": {},
          "execution_count": 137
        }
      ]
    },
    {
      "cell_type": "code",
      "source": [
        "reranked_docs_cross_encoder = sorted(scored_docs,reverse=True)"
      ],
      "metadata": {
        "id": "aBlo3i_LiK7f"
      },
      "execution_count": 138,
      "outputs": []
    },
    {
      "cell_type": "code",
      "source": [
        "reranked_docs_cross_encoder"
      ],
      "metadata": {
        "colab": {
          "base_uri": "https://localhost:8080/"
        },
        "id": "9pd4mgMzifnx",
        "outputId": "87710455-fd5a-47d9-da5a-e843348a1fa8"
      },
      "execution_count": 139,
      "outputs": [
        {
          "output_type": "execute_result",
          "data": {
            "text/plain": [
              "[(np.float32(3.808076),\n",
              "  'Efficient keyword extraction enhances search accuracy.'),\n",
              " (np.float32(0.7302185),\n",
              "  'Machine learning algorithms can optimize keyword extraction methods.'),\n",
              " (np.float32(-2.275875),\n",
              "  'Understanding document structure aids in keyword extraction.'),\n",
              " (np.float32(-8.559866),\n",
              "  'Semantic similarity improves document retrieval performance.')]"
            ]
          },
          "metadata": {},
          "execution_count": 139
        }
      ]
    },
    {
      "cell_type": "code",
      "source": [
        "reranked_document"
      ],
      "metadata": {
        "colab": {
          "base_uri": "https://localhost:8080/"
        },
        "id": "KrdUZhB4ivX7",
        "outputId": "e923547e-6ba2-422d-e5b6-4ab2948714c3"
      },
      "execution_count": 140,
      "outputs": [
        {
          "output_type": "execute_result",
          "data": {
            "text/plain": [
              "[('Efficient keyword extraction enhances search accuracy.',\n",
              "  np.float64(1.0760876716588057)),\n",
              " ('Understanding document structure aids in keyword extraction.',\n",
              "  np.float64(0.1721168141199951)),\n",
              " ('Machine learning algorithms can optimize keyword extraction methods.',\n",
              "  np.float64(0.16152501017414925)),\n",
              " ('Semantic similarity improves document retrieval performance.',\n",
              "  np.float64(0.0))]"
            ]
          },
          "metadata": {},
          "execution_count": 140
        }
      ]
    },
    {
      "cell_type": "markdown",
      "source": [
        "#Cohere"
      ],
      "metadata": {
        "id": "Cw26Qw320BWV"
      }
    },
    {
      "cell_type": "code",
      "source": [
        "!pip install cohere"
      ],
      "metadata": {
        "colab": {
          "base_uri": "https://localhost:8080/"
        },
        "id": "5kqLAfgM0DAz",
        "outputId": "4d0e24ee-2440-4b2e-b4e1-ae1e2396918a"
      },
      "execution_count": 141,
      "outputs": [
        {
          "output_type": "stream",
          "name": "stdout",
          "text": [
            "Requirement already satisfied: cohere in /usr/local/lib/python3.11/dist-packages (5.15.0)\n",
            "Requirement already satisfied: fastavro<2.0.0,>=1.9.4 in /usr/local/lib/python3.11/dist-packages (from cohere) (1.11.1)\n",
            "Requirement already satisfied: httpx>=0.21.2 in /usr/local/lib/python3.11/dist-packages (from cohere) (0.28.1)\n",
            "Requirement already satisfied: httpx-sse==0.4.0 in /usr/local/lib/python3.11/dist-packages (from cohere) (0.4.0)\n",
            "Requirement already satisfied: pydantic>=1.9.2 in /usr/local/lib/python3.11/dist-packages (from cohere) (2.11.7)\n",
            "Requirement already satisfied: pydantic-core<3.0.0,>=2.18.2 in /usr/local/lib/python3.11/dist-packages (from cohere) (2.33.2)\n",
            "Requirement already satisfied: requests<3.0.0,>=2.0.0 in /usr/local/lib/python3.11/dist-packages (from cohere) (2.32.3)\n",
            "Requirement already satisfied: tokenizers<1,>=0.15 in /usr/local/lib/python3.11/dist-packages (from cohere) (0.21.1)\n",
            "Requirement already satisfied: types-requests<3.0.0,>=2.0.0 in /usr/local/lib/python3.11/dist-packages (from cohere) (2.32.4.20250611)\n",
            "Requirement already satisfied: typing_extensions>=4.0.0 in /usr/local/lib/python3.11/dist-packages (from cohere) (4.14.0)\n",
            "Requirement already satisfied: anyio in /usr/local/lib/python3.11/dist-packages (from httpx>=0.21.2->cohere) (4.9.0)\n",
            "Requirement already satisfied: certifi in /usr/local/lib/python3.11/dist-packages (from httpx>=0.21.2->cohere) (2025.6.15)\n",
            "Requirement already satisfied: httpcore==1.* in /usr/local/lib/python3.11/dist-packages (from httpx>=0.21.2->cohere) (1.0.9)\n",
            "Requirement already satisfied: idna in /usr/local/lib/python3.11/dist-packages (from httpx>=0.21.2->cohere) (3.10)\n",
            "Requirement already satisfied: h11>=0.16 in /usr/local/lib/python3.11/dist-packages (from httpcore==1.*->httpx>=0.21.2->cohere) (0.16.0)\n",
            "Requirement already satisfied: annotated-types>=0.6.0 in /usr/local/lib/python3.11/dist-packages (from pydantic>=1.9.2->cohere) (0.7.0)\n",
            "Requirement already satisfied: typing-inspection>=0.4.0 in /usr/local/lib/python3.11/dist-packages (from pydantic>=1.9.2->cohere) (0.4.1)\n",
            "Requirement already satisfied: charset-normalizer<4,>=2 in /usr/local/lib/python3.11/dist-packages (from requests<3.0.0,>=2.0.0->cohere) (3.4.2)\n",
            "Requirement already satisfied: urllib3<3,>=1.21.1 in /usr/local/lib/python3.11/dist-packages (from requests<3.0.0,>=2.0.0->cohere) (2.4.0)\n",
            "Requirement already satisfied: huggingface-hub<1.0,>=0.16.4 in /usr/local/lib/python3.11/dist-packages (from tokenizers<1,>=0.15->cohere) (0.33.0)\n",
            "Requirement already satisfied: filelock in /usr/local/lib/python3.11/dist-packages (from huggingface-hub<1.0,>=0.16.4->tokenizers<1,>=0.15->cohere) (3.18.0)\n",
            "Requirement already satisfied: fsspec>=2023.5.0 in /usr/local/lib/python3.11/dist-packages (from huggingface-hub<1.0,>=0.16.4->tokenizers<1,>=0.15->cohere) (2025.3.2)\n",
            "Requirement already satisfied: packaging>=20.9 in /usr/local/lib/python3.11/dist-packages (from huggingface-hub<1.0,>=0.16.4->tokenizers<1,>=0.15->cohere) (24.2)\n",
            "Requirement already satisfied: pyyaml>=5.1 in /usr/local/lib/python3.11/dist-packages (from huggingface-hub<1.0,>=0.16.4->tokenizers<1,>=0.15->cohere) (6.0.2)\n",
            "Requirement already satisfied: tqdm>=4.42.1 in /usr/local/lib/python3.11/dist-packages (from huggingface-hub<1.0,>=0.16.4->tokenizers<1,>=0.15->cohere) (4.67.1)\n",
            "Requirement already satisfied: hf-xet<2.0.0,>=1.1.2 in /usr/local/lib/python3.11/dist-packages (from huggingface-hub<1.0,>=0.16.4->tokenizers<1,>=0.15->cohere) (1.1.3)\n",
            "Requirement already satisfied: sniffio>=1.1 in /usr/local/lib/python3.11/dist-packages (from anyio->httpx>=0.21.2->cohere) (1.3.1)\n"
          ]
        }
      ]
    },
    {
      "cell_type": "code",
      "source": [
        "import cohere"
      ],
      "metadata": {
        "id": "auO1d73b0HUv"
      },
      "execution_count": 142,
      "outputs": []
    },
    {
      "cell_type": "code",
      "source": [
        "COHERE_API_KEY= \"xxxxxxxxxxxxxxxxxxxxxxxxxxxx\""
      ],
      "metadata": {
        "id": "Wax6haJx04el"
      },
      "execution_count": 143,
      "outputs": []
    },
    {
      "cell_type": "code",
      "source": [
        "co = cohere.ClientV2(COHERE_API_KEY)"
      ],
      "metadata": {
        "id": "QiIOsqKr0j31"
      },
      "execution_count": 144,
      "outputs": []
    },
    {
      "cell_type": "code",
      "source": [
        "top_4_documents"
      ],
      "metadata": {
        "colab": {
          "base_uri": "https://localhost:8080/"
        },
        "id": "fdbDiVEc1A3Q",
        "outputId": "0bc29dfd-6161-4be7-fc53-b3bfe2c4c26f"
      },
      "execution_count": 145,
      "outputs": [
        {
          "output_type": "execute_result",
          "data": {
            "text/plain": [
              "['Machine learning algorithms can optimize keyword extraction methods.',\n",
              " 'Efficient keyword extraction enhances search accuracy.',\n",
              " 'Understanding document structure aids in keyword extraction.',\n",
              " 'Semantic similarity improves document retrieval performance.']"
            ]
          },
          "metadata": {},
          "execution_count": 145
        }
      ]
    },
    {
      "cell_type": "code",
      "source": [
        "query"
      ],
      "metadata": {
        "colab": {
          "base_uri": "https://localhost:8080/",
          "height": 36
        },
        "id": "MZY9YgZK1C4D",
        "outputId": "032b87d1-d17f-421d-e106-e7c1b1857ff3"
      },
      "execution_count": 146,
      "outputs": [
        {
          "output_type": "execute_result",
          "data": {
            "text/plain": [
              "'Natural Language Processing techniques enhances keyword extraction and efficiency.'"
            ],
            "application/vnd.google.colaboratory.intrinsic+json": {
              "type": "string"
            }
          },
          "metadata": {},
          "execution_count": 146
        }
      ]
    },
    {
      "cell_type": "code",
      "source": [
        "response = co.rerank(\n",
        "    model=\"rerank-v3.5\",\n",
        "    query=query,\n",
        "    documents=top_4_documents,\n",
        "    return_documents=True\n",
        ")"
      ],
      "metadata": {
        "id": "c1LE4WLa1EGd"
      },
      "execution_count": 147,
      "outputs": []
    },
    {
      "cell_type": "code",
      "source": [
        "for result in response.results:\n",
        "    print(result)"
      ],
      "metadata": {
        "colab": {
          "base_uri": "https://localhost:8080/"
        },
        "id": "h6dni9_w2kOd",
        "outputId": "95cab311-e951-4617-ace2-7b6d558ad2a6"
      },
      "execution_count": 148,
      "outputs": [
        {
          "output_type": "stream",
          "name": "stdout",
          "text": [
            "document=V2RerankResponseResultsItemDocument(text='Efficient keyword extraction enhances search accuracy.') index=1 relevance_score=0.54942364\n",
            "document=V2RerankResponseResultsItemDocument(text='Machine learning algorithms can optimize keyword extraction methods.') index=0 relevance_score=0.528315\n",
            "document=V2RerankResponseResultsItemDocument(text='Understanding document structure aids in keyword extraction.') index=2 relevance_score=0.41137156\n",
            "document=V2RerankResponseResultsItemDocument(text='Semantic similarity improves document retrieval performance.') index=3 relevance_score=0.18172778\n"
          ]
        }
      ]
    },
    {
      "cell_type": "markdown",
      "source": [
        "#BERT"
      ],
      "metadata": {
        "id": "IXtD7JqoghhA"
      }
    },
    {
      "cell_type": "code",
      "source": [
        "from transformers import BertTokenizer, BertForSequenceClassification\n",
        "import torch"
      ],
      "metadata": {
        "id": "h3EIVh0SK_zl"
      },
      "execution_count": 149,
      "outputs": []
    },
    {
      "cell_type": "code",
      "source": [
        "model = BertForSequenceClassification.from_pretrained('bert-base-uncased')\n",
        "tokenizer = BertTokenizer.from_pretrained('bert-base-uncased')"
      ],
      "metadata": {
        "colab": {
          "base_uri": "https://localhost:8080/"
        },
        "id": "ZXsJ6-t_al8e",
        "outputId": "8c3695cc-8e4c-4d05-eec5-c5747152f982"
      },
      "execution_count": 150,
      "outputs": [
        {
          "output_type": "stream",
          "name": "stderr",
          "text": [
            "Some weights of BertForSequenceClassification were not initialized from the model checkpoint at bert-base-uncased and are newly initialized: ['classifier.bias', 'classifier.weight']\n",
            "You should probably TRAIN this model on a down-stream task to be able to use it for predictions and inference.\n"
          ]
        }
      ]
    },
    {
      "cell_type": "code",
      "source": [
        "sentence_a = \"The movie was fantastic.\"\n",
        "sentence_b = \"I really enjoyed the film.\""
      ],
      "metadata": {
        "id": "dvc5lCgXa2xY"
      },
      "execution_count": 151,
      "outputs": []
    },
    {
      "cell_type": "code",
      "source": [
        "inputs = tokenizer(sentence_a, sentence_b, return_tensors='pt', padding=True, truncation=True)"
      ],
      "metadata": {
        "id": "t4N-s_TIbCpq"
      },
      "execution_count": 152,
      "outputs": []
    },
    {
      "cell_type": "code",
      "source": [
        "output = model(**inputs)\n",
        "logits = output.logits"
      ],
      "metadata": {
        "id": "eIn4WDzdbLGM"
      },
      "execution_count": 153,
      "outputs": []
    },
    {
      "cell_type": "code",
      "source": [
        "output"
      ],
      "metadata": {
        "colab": {
          "base_uri": "https://localhost:8080/"
        },
        "id": "WefX6-UFb41j",
        "outputId": "27bee32f-b9ff-4737-acaf-e8462d1803db"
      },
      "execution_count": 154,
      "outputs": [
        {
          "output_type": "execute_result",
          "data": {
            "text/plain": [
              "SequenceClassifierOutput(loss=None, logits=tensor([[-0.2155,  0.3329]], grad_fn=<AddmmBackward0>), hidden_states=None, attentions=None)"
            ]
          },
          "metadata": {},
          "execution_count": 154
        }
      ]
    },
    {
      "cell_type": "code",
      "source": [
        "logits"
      ],
      "metadata": {
        "colab": {
          "base_uri": "https://localhost:8080/"
        },
        "id": "_ZdNwyRUb7hL",
        "outputId": "10c71eb9-d8c7-442c-bb6d-6162f9dc2cba"
      },
      "execution_count": 155,
      "outputs": [
        {
          "output_type": "execute_result",
          "data": {
            "text/plain": [
              "tensor([[-0.2155,  0.3329]], grad_fn=<AddmmBackward0>)"
            ]
          },
          "metadata": {},
          "execution_count": 155
        }
      ]
    },
    {
      "cell_type": "code",
      "source": [
        "probs = torch.softmax(logits, dim=1)"
      ],
      "metadata": {
        "id": "BJ6f4SdybS1l"
      },
      "execution_count": 156,
      "outputs": []
    },
    {
      "cell_type": "code",
      "source": [
        "probs"
      ],
      "metadata": {
        "colab": {
          "base_uri": "https://localhost:8080/"
        },
        "id": "RBULo_MEb9hC",
        "outputId": "cf3866a8-2b60-49d6-f6d9-44bdbdcb9062"
      },
      "execution_count": 157,
      "outputs": [
        {
          "output_type": "execute_result",
          "data": {
            "text/plain": [
              "tensor([[0.3663, 0.6337]], grad_fn=<SoftmaxBackward0>)"
            ]
          },
          "metadata": {},
          "execution_count": 157
        }
      ]
    },
    {
      "cell_type": "code",
      "source": [
        "similarity_score = probs[0][1].item()\n",
        "print(f\"Similarity score is: {similarity_score}\")"
      ],
      "metadata": {
        "colab": {
          "base_uri": "https://localhost:8080/"
        },
        "id": "XOpPmxT4bae9",
        "outputId": "dddf4834-1a82-4e65-b37e-d7a6e4949b4e"
      },
      "execution_count": 158,
      "outputs": [
        {
          "output_type": "stream",
          "name": "stdout",
          "text": [
            "Similarity score is: 0.6337465643882751\n"
          ]
        }
      ]
    },
    {
      "cell_type": "code",
      "source": [],
      "metadata": {
        "id": "NTz6R49gboov"
      },
      "execution_count": 158,
      "outputs": []
    }
  ]
}